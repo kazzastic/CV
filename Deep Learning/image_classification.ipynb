{
 "cells": [
  {
   "cell_type": "code",
   "execution_count": 31,
   "metadata": {},
   "outputs": [
    {
     "name": "stdout",
     "output_type": "stream",
     "text": [
      "['n01440764 tench, Tinca tinca', 'n01443537 goldfish, Carassius auratus', 'n01484850 great white shark, white shark, man-eater, man-eating shark, Carcharodon carcharias', 'n01491361 tiger shark, Galeocerdo cuvieri', 'n01494475 hammerhead, hammerhead shark']\n",
      "1000\n"
     ]
    }
   ],
   "source": [
    "import cv2\n",
    "import numpy as np\n",
    "import time\n",
    "\n",
    "rows = open('synset_words.txt').read().strip().split('\\n')\n",
    "print(rows[0:5])\n",
    "print(len(rows))"
   ]
  },
  {
   "cell_type": "code",
   "execution_count": 32,
   "metadata": {},
   "outputs": [
    {
     "name": "stdout",
     "output_type": "stream",
     "text": [
      "['tench', 'goldfish', 'great white shark', 'tiger shark', 'hammerhead']\n"
     ]
    }
   ],
   "source": [
    "classes = [r[r.find(' ')+1:].split(\",\")[0] for r in rows]\n",
    "print(classes[0:5])"
   ]
  },
  {
   "cell_type": "code",
   "execution_count": 39,
   "metadata": {},
   "outputs": [
    {
     "name": "stdout",
     "output_type": "stream",
     "text": [
      "classification took 0.065 seconds\n"
     ]
    }
   ],
   "source": [
    "weights = 'bvlc_googlenet.caffemodel'\n",
    "arch = 'bvlc_googlenet.prototxt'\n",
    "net = cv2.dnn.readNetFromCaffe(arch, weights)\n",
    "image = cv2.imread('eagle.png')\n",
    "blob = cv2.dnn.blobFromImage(image, 1, (244,244), (104, 117, 123))\n",
    "\n",
    "net.setInput(blob)\n",
    "start = time.time()\n",
    "preds = net.forward()\n",
    "end = time.time()\n",
    "print(\"classification took {:.3} seconds\".format(end- start))"
   ]
  },
  {
   "cell_type": "code",
   "execution_count": 40,
   "metadata": {},
   "outputs": [
    {
     "name": "stdout",
     "output_type": "stream",
     "text": [
      "1000\n",
      "[22 21 23 93 80]\n",
      "bald eagle\n"
     ]
    }
   ],
   "source": [
    "n = 5\n",
    "print(len(preds[0]))\n",
    "np.argsort(preds[0])\n",
    "np.argsort(preds[0])[::-1]\n",
    "allindexes = np.argsort(preds[0])[::-1]\n",
    "idxs = allindexes[:n]\n",
    "print(idxs)\n",
    "print(classes[idxs[0]])"
   ]
  },
  {
   "cell_type": "code",
   "execution_count": 41,
   "metadata": {},
   "outputs": [
    {
     "name": "stdout",
     "output_type": "stream",
     "text": [
      "label: 1 : bald eagle, probability: 0.99163\n",
      "label: 2 : kite, probability: 0.0078082\n",
      "label: 3 : vulture, probability: 0.00048208\n",
      "label: 4 : hornbill, probability: 2.0498e-05\n",
      "label: 5 : black grouse, probability: 1.8274e-05\n"
     ]
    }
   ],
   "source": [
    "for(i,idx) in enumerate(idxs):\n",
    "    if i==0:\n",
    "        text = 'Label: {}, {:.2f}%'.format(classes[idx], preds[0][idx]*100)\n",
    "        cv2.putText(image, text, (6, 27), cv2.FONT_HERSHEY_SIMPLEX, 0.6, (0, 55, 255), 2)\n",
    "        \n",
    "    print(\"label: {} : {}, probability: {:.5}\".format(i+1, classes[idx], preds[0][idx]))\n",
    "    \n",
    "cv2.imshow(\"Image\", image)\n",
    "cv2.waitKey(0)\n",
    "cv2.destroyAllWindows()"
   ]
  },
  {
   "cell_type": "code",
   "execution_count": 38,
   "metadata": {},
   "outputs": [
    {
     "ename": "error",
     "evalue": "OpenCV(4.1.0) /io/opencv/modules/imgproc/src/resize.cpp:3718: error: (-215:Assertion failed) !ssize.empty() in function 'resize'\n",
     "output_type": "error",
     "traceback": [
      "\u001b[0;31m---------------------------------------------------------------------------\u001b[0m",
      "\u001b[0;31merror\u001b[0m                                     Traceback (most recent call last)",
      "\u001b[0;32m<ipython-input-38-4b4c26a0e456>\u001b[0m in \u001b[0;36m<module>\u001b[0;34m\u001b[0m\n\u001b[1;32m     18\u001b[0m \u001b[0march\u001b[0m \u001b[0;34m=\u001b[0m \u001b[0;34m'bvlc_googlenet.prototxt'\u001b[0m\u001b[0;34m\u001b[0m\u001b[0;34m\u001b[0m\u001b[0m\n\u001b[1;32m     19\u001b[0m \u001b[0mnet\u001b[0m \u001b[0;34m=\u001b[0m \u001b[0mcv2\u001b[0m\u001b[0;34m.\u001b[0m\u001b[0mdnn\u001b[0m\u001b[0;34m.\u001b[0m\u001b[0mreadNetFromCaffe\u001b[0m\u001b[0;34m(\u001b[0m\u001b[0march\u001b[0m\u001b[0;34m,\u001b[0m \u001b[0mweights\u001b[0m\u001b[0;34m)\u001b[0m\u001b[0;34m\u001b[0m\u001b[0;34m\u001b[0m\u001b[0m\n\u001b[0;32m---> 20\u001b[0;31m \u001b[0mblob\u001b[0m \u001b[0;34m=\u001b[0m \u001b[0mcv2\u001b[0m\u001b[0;34m.\u001b[0m\u001b[0mdnn\u001b[0m\u001b[0;34m.\u001b[0m\u001b[0mblobFromImage\u001b[0m\u001b[0;34m(\u001b[0m\u001b[0mimage1\u001b[0m\u001b[0;34m,\u001b[0m \u001b[0;36m1\u001b[0m\u001b[0;34m,\u001b[0m \u001b[0;34m(\u001b[0m\u001b[0;36m244\u001b[0m\u001b[0;34m,\u001b[0m\u001b[0;36m244\u001b[0m\u001b[0;34m)\u001b[0m\u001b[0;34m,\u001b[0m \u001b[0;34m(\u001b[0m\u001b[0;36m104\u001b[0m\u001b[0;34m,\u001b[0m \u001b[0;36m117\u001b[0m\u001b[0;34m,\u001b[0m \u001b[0;36m123\u001b[0m\u001b[0;34m)\u001b[0m\u001b[0;34m)\u001b[0m\u001b[0;34m\u001b[0m\u001b[0;34m\u001b[0m\u001b[0m\n\u001b[0m\u001b[1;32m     21\u001b[0m \u001b[0mnet\u001b[0m\u001b[0;34m.\u001b[0m\u001b[0msetInput\u001b[0m\u001b[0;34m(\u001b[0m\u001b[0mblob\u001b[0m\u001b[0;34m)\u001b[0m\u001b[0;34m\u001b[0m\u001b[0;34m\u001b[0m\u001b[0m\n\u001b[1;32m     22\u001b[0m \u001b[0mpreds\u001b[0m \u001b[0;34m=\u001b[0m \u001b[0mnet\u001b[0m\u001b[0;34m.\u001b[0m\u001b[0mforward\u001b[0m\u001b[0;34m(\u001b[0m\u001b[0;34m)\u001b[0m\u001b[0;34m\u001b[0m\u001b[0;34m\u001b[0m\u001b[0m\n",
      "\u001b[0;31merror\u001b[0m: OpenCV(4.1.0) /io/opencv/modules/imgproc/src/resize.cpp:3718: error: (-215:Assertion failed) !ssize.empty() in function 'resize'\n"
     ]
    }
   ],
   "source": [
    "usecamera = True\n",
    "import cv2\n",
    "import numpy as np\n",
    "import time \n",
    "\n",
    "rows = open('synset_words.txt').read().strip().split('\\n')\n",
    "classes = [r[r.find(' ')+1:].split(\",\")[0] for r in rows]\n",
    "\n",
    "if usecamera == True:\n",
    "    cap = cv2.VideoCapture(1)\n",
    "    ret, frame = cap.read()\n",
    "    image1 = cv2.flip(frame, 1)\n",
    "    cap.release()\n",
    "else:\n",
    "    image1 = cv2.imread('eagle.png')\n",
    "    \n",
    "weights = 'bvlc_googlenet.caffemodel'\n",
    "arch = 'bvlc_googlenet.prototxt'\n",
    "net = cv2.dnn.readNetFromCaffe(arch, weights)\n",
    "blob = cv2.dnn.blobFromImage(image1, 1, (244,244), (104, 117, 123))\n",
    "net.setInput(blob)\n",
    "preds = net.forward()\n",
    "\n",
    "np.argsort(preds[0])\n",
    "np.argsort(preds[0])[::-1]\n",
    "allindexes = np.argsort(preds[0])[::-1]\n",
    "idx = allindexes[:1]\n",
    "\n",
    "targetclass = classes[idx[0]]\n",
    "confidence = preds[0][idx][0]*100\n",
    "\n",
    "text = 'Label: {}, {:.2f}%'.format(targetclass, confidence)\n",
    "cv2.putText(image1, text, (6, 27), cv2.FONT_HERSHEY_SIMPLEX, 0.6, (0, 55, 255), 2)\n",
    "\n",
    "\n",
    "cv2.imshow(\"Image\", image1)\n",
    "cv2.waitKey(0)\n",
    "cv2.destroyAllWindows()"
   ]
  },
  {
   "cell_type": "code",
   "execution_count": null,
   "metadata": {},
   "outputs": [],
   "source": []
  }
 ],
 "metadata": {
  "kernelspec": {
   "display_name": "Python 3",
   "language": "python",
   "name": "python3"
  },
  "language_info": {
   "codemirror_mode": {
    "name": "ipython",
    "version": 3
   },
   "file_extension": ".py",
   "mimetype": "text/x-python",
   "name": "python",
   "nbconvert_exporter": "python",
   "pygments_lexer": "ipython3",
   "version": "3.7.3"
  }
 },
 "nbformat": 4,
 "nbformat_minor": 2
}
