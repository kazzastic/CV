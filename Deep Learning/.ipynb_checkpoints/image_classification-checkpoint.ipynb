{
 "cells": [
  {
   "cell_type": "code",
   "execution_count": 31,
   "metadata": {},
   "outputs": [
    {
     "name": "stdout",
     "output_type": "stream",
     "text": [
      "['n01440764 tench, Tinca tinca', 'n01443537 goldfish, Carassius auratus', 'n01484850 great white shark, white shark, man-eater, man-eating shark, Carcharodon carcharias', 'n01491361 tiger shark, Galeocerdo cuvieri', 'n01494475 hammerhead, hammerhead shark']\n",
      "1000\n"
     ]
    }
   ],
   "source": [
    "import cv2\n",
    "import numpy as np\n",
    "import time\n",
    "\n",
    "rows = open('synset_words.txt').read().strip().split('\\n')\n",
    "print(rows[0:5])\n",
    "print(len(rows))"
   ]
  },
  {
   "cell_type": "code",
   "execution_count": 32,
   "metadata": {},
   "outputs": [
    {
     "name": "stdout",
     "output_type": "stream",
     "text": [
      "['tench', 'goldfish', 'great white shark', 'tiger shark', 'hammerhead']\n"
     ]
    }
   ],
   "source": [
    "classes = [r[r.find(' ')+1:].split(\",\")[0] for r in rows]\n",
    "print(classes[0:5])"
   ]
  },
  {
   "cell_type": "code",
   "execution_count": 39,
   "metadata": {},
   "outputs": [
    {
     "name": "stdout",
     "output_type": "stream",
     "text": [
      "classification took 0.065 seconds\n"
     ]
    }
   ],
   "source": [
    "weights = 'bvlc_googlenet.caffemodel'\n",
    "arch = 'bvlc_googlenet.prototxt'\n",
    "net = cv2.dnn.readNetFromCaffe(arch, weights)\n",
    "image = cv2.imread('eagle.png')\n",
    "blob = cv2.dnn.blobFromImage(image, 1, (244,244), (104, 117, 123))\n",
    "\n",
    "net.setInput(blob)\n",
    "start = time.time()\n",
    "preds = net.forward()\n",
    "end = time.time()\n",
    "print(\"classification took {:.3} seconds\".format(end- start))"
   ]
  },
  {
   "cell_type": "code",
   "execution_count": 40,
   "metadata": {},
   "outputs": [
    {
     "name": "stdout",
     "output_type": "stream",
     "text": [
      "1000\n",
      "[22 21 23 93 80]\n",
      "bald eagle\n"
     ]
    }
   ],
   "source": [
    "n = 5\n",
    "print(len(preds[0]))\n",
    "np.argsort(preds[0])\n",
    "np.argsort(preds[0])[::-1]\n",
    "allindexes = np.argsort(preds[0])[::-1]\n",
    "idxs = allindexes[:n]\n",
    "print(idxs)\n",
    "print(classes[idxs[0]])"
   ]
  },
  {
   "cell_type": "code",
   "execution_count": 41,
   "metadata": {},
   "outputs": [
    {
     "name": "stdout",
     "output_type": "stream",
     "text": [
      "label: 1 : bald eagle, probability: 0.99163\n",
      "label: 2 : kite, probability: 0.0078082\n",
      "label: 3 : vulture, probability: 0.00048208\n",
      "label: 4 : hornbill, probability: 2.0498e-05\n",
      "label: 5 : black grouse, probability: 1.8274e-05\n"
     ]
    }
   ],
   "source": [
    "for(i,idx) in enumerate(idxs):\n",
    "    if i==0:\n",
    "        text = 'Label: {}, {:.2f}%'.format(classes[idx], preds[0][idx]*100)\n",
    "        cv2.putText(image, text, (6, 27), cv2.FONT_HERSHEY_SIMPLEX, 0.6, (0, 55, 255), 2)\n",
    "        \n",
    "    print(\"label: {} : {}, probability: {:.5}\".format(i+1, classes[idx], preds[0][idx]))\n",
    "    \n",
    "cv2.imshow(\"Image\", image)\n",
    "cv2.waitKey(0)\n",
    "cv2.destroyAllWindows()"
   ]
  },
  {
   "cell_type": "code",
   "execution_count": null,
   "metadata": {},
   "outputs": [
    {
     "name": "stdout",
     "output_type": "stream",
     "text": [
      "Label: microphone, 23.07%\n"
     ]
    }
   ],
   "source": [
    "usecamera = True\n",
    "import cv2\n",
    "import numpy as np\n",
    "import time \n",
    "\n",
    "rows = open('synset_words.txt').read().strip().split('\\n')\n",
    "classes = [r[r.find(' ')+1:].split(\",\")[0] for r in rows]\n",
    "weights = 'bvlc_googlenet.caffemodel'\n",
    "arch = 'bvlc_googlenet.prototxt'\n",
    "net = cv2.dnn.readNetFromCaffe(arch, weights)\n",
    "cap = cv2.VideoCapture(0)\n",
    "\n",
    "while True:\n",
    "    ret, frame = cap.read()\n",
    "    image1 = cv2.flip(frame, 1)\n",
    "    \n",
    "    blob = cv2.dnn.blobFromImage(image1, 1, (244,244), (104, 117, 123))\n",
    "    net.setInput(blob)\n",
    "    preds = net.forward()\n",
    "\n",
    "    np.argsort(preds[0])\n",
    "    np.argsort(preds[0])[::-1]\n",
    "    allindexes = np.argsort(preds[0])[::-1]\n",
    "    idx = allindexes[:1]\n",
    "\n",
    "    targetclass = classes[idx[0]]\n",
    "    confidence = preds[0][idx][0]*100\n",
    "\n",
    "    text = 'Label: {}, {:.2f}%'.format(targetclass, confidence)\n",
    "    cv2.putText(image1, text, (6, 27), cv2.FONT_HERSHEY_SIMPLEX, 0.6, (0, 55, 255), 2)\n",
    "    print(text)\n",
    "    cv2.imshow('me', image1)\n",
    "\n",
    "\n",
    "    if cv2.waitKey(1) & 0xFF == ord('q'):\n",
    "        break\n",
    "    \n",
    "cap.release()\n",
    "cv2.destroyAllWindows()"
   ]
  },
  {
   "cell_type": "code",
   "execution_count": null,
   "metadata": {},
   "outputs": [],
   "source": []
  }
 ],
 "metadata": {
  "kernelspec": {
   "display_name": "Python 3",
   "language": "python",
   "name": "python3"
  },
  "language_info": {
   "codemirror_mode": {
    "name": "ipython",
    "version": 3
   },
   "file_extension": ".py",
   "mimetype": "text/x-python",
   "name": "python",
   "nbconvert_exporter": "python",
   "pygments_lexer": "ipython3",
   "version": "3.7.3"
  }
 },
 "nbformat": 4,
 "nbformat_minor": 2
}
