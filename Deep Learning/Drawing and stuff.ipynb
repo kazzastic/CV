{
 "cells": [
  {
   "cell_type": "code",
   "execution_count": 1,
   "metadata": {},
   "outputs": [
    {
     "name": "stdout",
     "output_type": "stream",
     "text": [
      "Kazim\n"
     ]
    }
   ],
   "source": [
    "print(\"Kazim\")"
   ]
  },
  {
   "cell_type": "code",
   "execution_count": 2,
   "metadata": {},
   "outputs": [],
   "source": [
    "import cv2\n",
    "import numpy as np\n",
    "\n",
    "def draw_c(event, x, y, flags, params):\n",
    "    if event == cv2.EVENT_LBUTTONDOWN:\n",
    "        cv2.circle(img,(x,y), 100, (0,255,0),-1)\n",
    "    elif event == cv2.EVENT_RBUTTONDOWN:\n",
    "        cv2.circle(img, (x,y), 100, (255, 0, 0), -1)\n",
    "\n",
    "cv2.namedWindow(winname = 'Image')\n",
    "cv2.setMouseCallback('Image', draw_c)\n",
    "\n",
    "\n",
    "\n",
    "img = np.zeros((512,512,3), np.int8)\n",
    "while 1:\n",
    "    cv2.imshow('Image', img)\n",
    "    \n",
    "    if cv2.waitKey(20) & 0xFF == 27:\n",
    "        break\n",
    "cv2.destroyAllWindows()"
   ]
  },
  {
   "cell_type": "code",
   "execution_count": 8,
   "metadata": {},
   "outputs": [],
   "source": [
    "import cv2\n",
    "import numpy as np\n",
    "\n",
    "draw = False\n",
    "xi = -1\n",
    "yi = -1\n",
    "\n",
    "def draw_rec(event, x, y, flags, params):\n",
    "    global xi, yi, draw\n",
    "    \n",
    "    if event == cv2.EVENT_LBUTTONDOWN:\n",
    "        draw  = True\n",
    "        xi, yi = x, y\n",
    "    elif event == cv2.EVENT_MOUSEMOVE:\n",
    "        if draw == True:\n",
    "            cv2.rectangle(img, (xi,yi), (x,y),(15, 10, 20), 1)\n",
    "    elif event == cv2.EVENT_LBUTTONUP:\n",
    "        draw = False\n",
    "        cv2.rectangle(img, (xi,yi), (x,y),(15, 10, 20),-1)\n",
    "\n",
    "cv2.namedWindow(winname = 'Image')\n",
    "cv2.setMouseCallback('Image', draw_rec)\n",
    "\n",
    "img = np.zeros((512,512,3))\n",
    "while 1:\n",
    "    cv2.imshow('Image', img)\n",
    "    if cv2.waitKey(20) & 0xFF == 27:\n",
    "        break\n",
    "cv2.destroyAllWindows()"
   ]
  },
  {
   "cell_type": "code",
   "execution_count": null,
   "metadata": {},
   "outputs": [],
   "source": []
  }
 ],
 "metadata": {
  "kernelspec": {
   "display_name": "Python 3",
   "language": "python",
   "name": "python3"
  },
  "language_info": {
   "codemirror_mode": {
    "name": "ipython",
    "version": 3
   },
   "file_extension": ".py",
   "mimetype": "text/x-python",
   "name": "python",
   "nbconvert_exporter": "python",
   "pygments_lexer": "ipython3",
   "version": "3.7.3"
  }
 },
 "nbformat": 4,
 "nbformat_minor": 2
}
