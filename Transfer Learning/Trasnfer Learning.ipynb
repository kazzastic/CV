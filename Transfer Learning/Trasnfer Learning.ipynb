{
 "cells": [
  {
   "cell_type": "markdown",
   "metadata": {},
   "source": [
    "# Transerfer Learning on Food 5-k dataset\n",
    "Trasfer learning is the process of taking a pre-trained DNN and then extracting some features from the DNN and finally putting our own ML alogrithm to find out the results we need.\n",
    "For instance in the given newly "
   ]
  },
  {
   "cell_type": "code",
   "execution_count": 1,
   "metadata": {},
   "outputs": [
    {
     "name": "stderr",
     "output_type": "stream",
     "text": [
      "/home/kazzastic/anaconda3/lib/python3.7/importlib/_bootstrap.py:219: RuntimeWarning: numpy.ufunc size changed, may indicate binary incompatibility. Expected 192 from C header, got 216 from PyObject\n",
      "  return f(*args, **kwds)\n",
      "/home/kazzastic/anaconda3/lib/python3.7/importlib/_bootstrap.py:219: RuntimeWarning: numpy.ufunc size changed, may indicate binary incompatibility. Expected 192 from C header, got 216 from PyObject\n",
      "  return f(*args, **kwds)\n",
      "/home/kazzastic/anaconda3/lib/python3.7/importlib/_bootstrap.py:219: RuntimeWarning: numpy.ufunc size changed, may indicate binary incompatibility. Expected 192 from C header, got 216 from PyObject\n",
      "  return f(*args, **kwds)\n",
      "/home/kazzastic/anaconda3/lib/python3.7/importlib/_bootstrap.py:219: RuntimeWarning: numpy.ufunc size changed, may indicate binary incompatibility. Expected 192 from C header, got 216 from PyObject\n",
      "  return f(*args, **kwds)\n",
      "/home/kazzastic/anaconda3/lib/python3.7/importlib/_bootstrap.py:219: RuntimeWarning: numpy.ufunc size changed, may indicate binary incompatibility. Expected 192 from C header, got 216 from PyObject\n",
      "  return f(*args, **kwds)\n",
      "/home/kazzastic/anaconda3/lib/python3.7/importlib/_bootstrap.py:219: RuntimeWarning: numpy.ufunc size changed, may indicate binary incompatibility. Expected 192 from C header, got 216 from PyObject\n",
      "  return f(*args, **kwds)\n"
     ]
    },
    {
     "name": "stdout",
     "output_type": "stream",
     "text": [
      "[INFO] loading data...\n",
      "[INFO] training model...\n",
      "[INFO] evaluating...\n",
      "              precision    recall  f1-score   support\n",
      "\n",
      "        food       0.99      0.98      0.98       500\n",
      "    non_food       0.98      0.99      0.99       500\n",
      "\n",
      "    accuracy                           0.98      1000\n",
      "   macro avg       0.99      0.98      0.98      1000\n",
      "weighted avg       0.99      0.98      0.98      1000\n",
      "\n",
      "[INFO] saving model...\n"
     ]
    },
    {
     "name": "stderr",
     "output_type": "stream",
     "text": [
      "/home/kazzastic/anaconda3/lib/python3.7/site-packages/sklearn/linear_model/logistic.py:947: ConvergenceWarning: lbfgs failed to converge. Increase the number of iterations.\n",
      "  \"of iterations.\", ConvergenceWarning)\n"
     ]
    }
   ],
   "source": [
    " #!/usr/bin/env python3\n",
    "# -*- coding: utf-8 -*-\n",
    "\"\"\"\n",
    "Created on Tue Aug 27 14:22:42 2019\n",
    "\n",
    "@author: kazzastic\n",
    "\"\"\"\n",
    "\n",
    "# import the necessary packages\n",
    "from sklearn.linear_model import LogisticRegression\n",
    "from sklearn.metrics import classification_report\n",
    "from pyimagesearch import config\n",
    "import numpy as np\n",
    "import pickle\n",
    "import os\n",
    "\n",
    "def load_data_split(splitPath):\n",
    "    # initialize the data and labels\n",
    "    data = []\n",
    "    labels = []\n",
    "\n",
    "    # loop over the rows in the data split file\n",
    "    for row in open(splitPath):\n",
    "        # extract the class label and features from the row\n",
    "        row = row.strip().split(\",\")\n",
    "        label = row[0]\n",
    "        features = np.array(row[1:], dtype=\"float\")\n",
    "\n",
    "        # update the data and label lists\n",
    "        data.append(features)\n",
    "        labels.append(label)\n",
    "\n",
    "    # convert the data and labels to NumPy arrays\n",
    "    data = np.array(data)\n",
    "    labels = np.array(labels)\n",
    "\n",
    "    # return a tuple of the data and labels\n",
    "    return (data, labels)\n",
    "\n",
    "# derive the paths to the training and testing CSV files\n",
    "trainingPath = os.path.sep.join([config.BASE_CSV_PATH, \"{}.csv\".format(config.TRAIN)])\n",
    "testingPath = os.path.sep.join([config.BASE_CSV_PATH, \"{}.csv\".format(config.TEST)])\n",
    "\n",
    "# load the data from disk\n",
    "print(\"[INFO] loading data...\")\n",
    "(trainX, trainY) = load_data_split(trainingPath)\n",
    "(testX, testY) = load_data_split(testingPath)\n",
    "\n",
    "# load the label encoder from disk\n",
    "le = pickle.loads(open(config.LE_PATH, \"rb\").read())\n",
    "\n",
    "# train the model\n",
    "print(\"[INFO] training model...\")\n",
    "model = LogisticRegression(solver=\"lbfgs\", multi_class=\"auto\")\n",
    "model.fit(trainX, trainY)\n",
    "\n",
    "# evaluate the model\n",
    "print(\"[INFO] evaluating...\")\n",
    "preds = model.predict(testX)\n",
    "print(classification_report(testY, preds, target_names=le.classes_))\n",
    "\n",
    "# serialize the model to disk\n",
    "print(\"[INFO] saving model...\")\n",
    "f = open(config.MODEL_PATH, \"wb\")\n",
    "f.write(pickle.dumps(model))\n",
    "f.close()"
   ]
  }
 ],
 "metadata": {
  "kernelspec": {
   "display_name": "Python 3",
   "language": "python",
   "name": "python3"
  },
  "language_info": {
   "codemirror_mode": {
    "name": "ipython",
    "version": 3
   },
   "file_extension": ".py",
   "mimetype": "text/x-python",
   "name": "python",
   "nbconvert_exporter": "python",
   "pygments_lexer": "ipython3",
   "version": "3.7.3"
  }
 },
 "nbformat": 4,
 "nbformat_minor": 2
}
